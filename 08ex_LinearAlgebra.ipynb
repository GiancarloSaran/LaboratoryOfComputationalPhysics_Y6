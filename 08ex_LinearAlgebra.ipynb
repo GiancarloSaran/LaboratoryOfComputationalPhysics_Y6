{
  "cells": [
    {
      "cell_type": "code",
      "source": [
        "import numpy as np\n",
        "import matplotlib.pyplot as plt\n",
        "import scipy.linalg as la"
      ],
      "metadata": {
        "id": "f7WVz1zJQ6XK"
      },
      "execution_count": 1,
      "outputs": []
    },
    {
      "cell_type": "markdown",
      "metadata": {
        "id": "f7wVeDeDQ2p9"
      },
      "source": [
        "1\\. **PCA on 3D dataset**\n",
        "\n",
        "* Generate a dataset with 3 features each with N entries (N being ${\\cal O}(1000)$). With $N(\\mu,\\sigma)$ the normali distribution with mean $\\mu$ and $\\sigma$  standard deviation, generate the 3 variables $x_{1,2,3}$ such that:\n",
        "    * $x_1$ is distributed as $N(0,1)$\n",
        "    * $x_2$ is distributed as $x_1+N(0,3)$\n",
        "    * $x_3$ is given by $2x_1+x_2$\n",
        "* Find the eigenvectors and eigenvalues of the covariance matrix of the dataset\n",
        "* Find the eigenvectors and eigenvalues using SVD. Check that the two procedures yield to same result\n",
        "* What percent of the total dataset's variability is explained by the principal components? Given how the dataset was constructed, do these make sense? Reduce the dimensionality of the system so that at least 99% of the total variability is retained.\n",
        "* Redefine the data in the basis yielded by the PCA procedure\n",
        "* Plot the data points in the original and the new coordiantes as a set of scatter plots. Your final figure should have 2 rows of 3 plots each, where the columns show the (0,1), (0,2) and (1,2) proejctions.\n"
      ]
    },
    {
      "cell_type": "markdown",
      "source": [
        "We group $N$ samples of $k$ random variables on a $k\\times N$ data matrix $\\mathbf{X}$. Recenter it around a $k\\times N$ mean matrix $(\\mathbf{\\mu})_{ij} = \\overline{X_i}$ so that $\\mathbf{X'}=\\mathbf{X}-\\mathbf{\\mu}$\n",
        "\n",
        "The covariance matrix can be calculated as $\\dfrac{\\mathbf{X'}\\cdot\\mathbf{X'}^T}{N-1}$\n",
        "\n",
        "It is $k\\times k$ and we wish to diagonalize it to"
      ],
      "metadata": {
        "id": "aoctmi3RdL57"
      }
    },
    {
      "cell_type": "code",
      "source": [
        "#Generate data\n",
        "N = 1000\n",
        "x1 = np.random.normal(0, 1, size=(1, N)) #N samples from N(0,1) in a column vector\n",
        "x2 = np.random.normal(0, 3, size=(1, N)) + x1\n",
        "x3 = 2*x1 + x2\n",
        "X = np.concatenate((x1, x2, x3), axis=0)\n",
        "\n",
        "#Compute covariance\n",
        "#print(np.cov(X))\n",
        "muX = np.mean(X, axis=1).reshape(3,1)\n",
        "W = X - muX\n",
        "cov = W.dot(W.T)/(N-1)\n",
        "\n",
        "#Compute eigendec.\n",
        "l, V = la.eig(cov)\n",
        "print(np.real_if_close(l)) #eigenvalues\n",
        "\n",
        "#Compute SVD"
      ],
      "metadata": {
        "id": "HGkvhAYBQ5b0",
        "outputId": "21d89f50-8837-46d7-c673-f1e86dbfab6c",
        "colab": {
          "base_uri": "https://localhost:8080/"
        }
      },
      "execution_count": 24,
      "outputs": [
        {
          "output_type": "stream",
          "name": "stdout",
          "text": [
            "[[-0.11628994 -0.81649658  0.56551745]\n",
            " [-0.57632465 -0.40824829 -0.70794296]\n",
            " [-0.80890454  0.40824829  0.42309193]]\n"
          ]
        }
      ]
    },
    {
      "cell_type": "markdown",
      "metadata": {
        "id": "Pdk1_qUUQ2qI"
      },
      "source": [
        "2\\. **PCA on a nD dataset**\n",
        "\n",
        "Start from the dataset you have genereted in the previous exercise and add uncorrelated random noise. Such noise should be represented by other 10 uncorrelated variables normal distributed, with standar deviation much smaller (say, a factor 50) than those used to generate the $x_1$ and $x_2$.\n",
        "\n",
        "Repeat the PCA procedure and compare the results with what you obtained before"
      ]
    },
    {
      "cell_type": "markdown",
      "metadata": {
        "id": "PbcOrdDMQ2qK"
      },
      "source": [
        "3 \\. **Looking at an oscillating spring** (optional)\n",
        "\n",
        "Imagine you have $n$ cameras looking at a spring oscillating along the $x$ axis. Each  camera record the motion of the spring looking at it along a given direction defined by the pair $(\\theta_i, \\phi_i)$, the angles in spherical coordinates.\n",
        "\n",
        "Start from the simulation of the records (say ${\\cal O}(1000)$) of the spring's motion along the x axis, assuming a little random noise affects the measurements along the $y$. Rotate such dataset to emulate the records of each camera.\n",
        "\n",
        "Perform a Principal Component Analysis on the thus obtained dataset, aiming at finding the only one coordinate that really matters.\n"
      ]
    },
    {
      "cell_type": "markdown",
      "metadata": {
        "id": "ABadW6GhQ2qL"
      },
      "source": [
        "4\\. **PCA on the MAGIC dataset** (optional)\n",
        "\n",
        "Perform a PCA on the magic04.data dataset"
      ]
    },
    {
      "cell_type": "code",
      "execution_count": null,
      "metadata": {
        "id": "PZq8J9_gQ2qN"
      },
      "outputs": [],
      "source": [
        "# get the dataset and its description on the proper data directory\n",
        "!wget https://archive.ics.uci.edu/ml/machine-learning-databases/magic/magic04.data -P ~/data/\n",
        "!wget https://archive.ics.uci.edu/ml/machine-learning-databases/magic/magic04.names -P ~/data/"
      ]
    }
  ],
  "metadata": {
    "kernelspec": {
      "display_name": "Python 3 (ipykernel)",
      "language": "python",
      "name": "python3"
    },
    "language_info": {
      "codemirror_mode": {
        "name": "ipython",
        "version": 3
      },
      "file_extension": ".py",
      "mimetype": "text/x-python",
      "name": "python",
      "nbconvert_exporter": "python",
      "pygments_lexer": "ipython3",
      "version": "3.9.7"
    },
    "colab": {
      "provenance": []
    }
  },
  "nbformat": 4,
  "nbformat_minor": 0
}