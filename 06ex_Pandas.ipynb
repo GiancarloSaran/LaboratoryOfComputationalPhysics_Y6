{
  "cells": [
    {
      "cell_type": "markdown",
      "metadata": {
        "id": "0-Fq8SJ-jsjy"
      },
      "source": [
        "## Pandas analysis\n",
        "\n",
        "This exercise consists in analyzing a dataset containg timing information from a series of Time-to-Digital-Converters (TDC) implemented in a couple of FPGAs. Each measurement (i.e. each row of the input file) consists of a flag that specifies the type of message ('HEAD', which in this case is always 1), two addresses of the TDC providing the signal ('FPGA' and 'TDC_CHANNEL'), and the timing information ('ORBIT_CNT', 'BX_COUNTER', and 'TDC_MEAS'). Each TDC count corresponds to 25/30 ns, whereas a unit of BX_COUNTER corresponds to 25 ns, and the ORBIT_CNT is increased every 'x' BX_COUNTER. This allows to store the time in a similar way to hours, minutes and seconds."
      ]
    },
    {
      "cell_type": "markdown",
      "metadata": {
        "id": "GqFYrJ3bjsj8"
      },
      "source": [
        "If you didn't download it yet, please get the relevant file now!"
      ]
    },
    {
      "cell_type": "code",
      "execution_count": 7,
      "metadata": {
        "id": "PJ2yMzJTjskH"
      },
      "outputs": [],
      "source": [
        "!wget -q -nc https://www.dropbox.com/s/xvjzaxzz3ysphme/data_000637.txt"
      ]
    },
    {
      "cell_type": "code",
      "execution_count": 5,
      "metadata": {
        "id": "5D2YxpFGjskP"
      },
      "outputs": [],
      "source": [
        "import pandas as pd\n",
        "import numpy as np"
      ]
    },
    {
      "cell_type": "code",
      "execution_count": 8,
      "metadata": {
        "id": "gx_VVBPbjskS",
        "outputId": "ec4ac447-c1fc-4048-8b7f-f08499053e45",
        "colab": {
          "base_uri": "https://localhost:8080/",
          "height": 519
        }
      },
      "outputs": [
        {
          "output_type": "execute_result",
          "data": {
            "text/plain": [
              "         FPGA  TDC_CHANNEL   ORBIT_CNT  BX_COUNTER  TDC_MEAS\n",
              "1310705     0           94  3869211171          43        22\n",
              "1310706     0           28  3869211171          44        29\n",
              "1310707     0           57  3869211171         137        29\n",
              "1310708     0          124  3869211171         199         9\n",
              "1310709     1           38  3869211171         417         8\n",
              "1310710     1           36  3869211171         427        13\n",
              "1310711     1           39  3869211171         430         0\n",
              "1310712     1           35  3869211171         429         4\n",
              "1310713     0           64  3869211171         758        18\n",
              "1310714     0           60  3869211171         762         2\n",
              "1310715     0           62  3869211171         762        14\n",
              "1310716     1            4  3869211171         763        11\n",
              "1310717     0           64  3869211171         764         0\n",
              "1310718     0          139  3869211171         769         0\n",
              "1310719     0           61  3869211171         762        18"
            ],
            "text/html": [
              "\n",
              "  <div id=\"df-53fcea50-cada-415e-b5cc-0c5fd3982688\" class=\"colab-df-container\">\n",
              "    <div>\n",
              "<style scoped>\n",
              "    .dataframe tbody tr th:only-of-type {\n",
              "        vertical-align: middle;\n",
              "    }\n",
              "\n",
              "    .dataframe tbody tr th {\n",
              "        vertical-align: top;\n",
              "    }\n",
              "\n",
              "    .dataframe thead th {\n",
              "        text-align: right;\n",
              "    }\n",
              "</style>\n",
              "<table border=\"1\" class=\"dataframe\">\n",
              "  <thead>\n",
              "    <tr style=\"text-align: right;\">\n",
              "      <th></th>\n",
              "      <th>FPGA</th>\n",
              "      <th>TDC_CHANNEL</th>\n",
              "      <th>ORBIT_CNT</th>\n",
              "      <th>BX_COUNTER</th>\n",
              "      <th>TDC_MEAS</th>\n",
              "    </tr>\n",
              "  </thead>\n",
              "  <tbody>\n",
              "    <tr>\n",
              "      <th>1310705</th>\n",
              "      <td>0</td>\n",
              "      <td>94</td>\n",
              "      <td>3869211171</td>\n",
              "      <td>43</td>\n",
              "      <td>22</td>\n",
              "    </tr>\n",
              "    <tr>\n",
              "      <th>1310706</th>\n",
              "      <td>0</td>\n",
              "      <td>28</td>\n",
              "      <td>3869211171</td>\n",
              "      <td>44</td>\n",
              "      <td>29</td>\n",
              "    </tr>\n",
              "    <tr>\n",
              "      <th>1310707</th>\n",
              "      <td>0</td>\n",
              "      <td>57</td>\n",
              "      <td>3869211171</td>\n",
              "      <td>137</td>\n",
              "      <td>29</td>\n",
              "    </tr>\n",
              "    <tr>\n",
              "      <th>1310708</th>\n",
              "      <td>0</td>\n",
              "      <td>124</td>\n",
              "      <td>3869211171</td>\n",
              "      <td>199</td>\n",
              "      <td>9</td>\n",
              "    </tr>\n",
              "    <tr>\n",
              "      <th>1310709</th>\n",
              "      <td>1</td>\n",
              "      <td>38</td>\n",
              "      <td>3869211171</td>\n",
              "      <td>417</td>\n",
              "      <td>8</td>\n",
              "    </tr>\n",
              "    <tr>\n",
              "      <th>1310710</th>\n",
              "      <td>1</td>\n",
              "      <td>36</td>\n",
              "      <td>3869211171</td>\n",
              "      <td>427</td>\n",
              "      <td>13</td>\n",
              "    </tr>\n",
              "    <tr>\n",
              "      <th>1310711</th>\n",
              "      <td>1</td>\n",
              "      <td>39</td>\n",
              "      <td>3869211171</td>\n",
              "      <td>430</td>\n",
              "      <td>0</td>\n",
              "    </tr>\n",
              "    <tr>\n",
              "      <th>1310712</th>\n",
              "      <td>1</td>\n",
              "      <td>35</td>\n",
              "      <td>3869211171</td>\n",
              "      <td>429</td>\n",
              "      <td>4</td>\n",
              "    </tr>\n",
              "    <tr>\n",
              "      <th>1310713</th>\n",
              "      <td>0</td>\n",
              "      <td>64</td>\n",
              "      <td>3869211171</td>\n",
              "      <td>758</td>\n",
              "      <td>18</td>\n",
              "    </tr>\n",
              "    <tr>\n",
              "      <th>1310714</th>\n",
              "      <td>0</td>\n",
              "      <td>60</td>\n",
              "      <td>3869211171</td>\n",
              "      <td>762</td>\n",
              "      <td>2</td>\n",
              "    </tr>\n",
              "    <tr>\n",
              "      <th>1310715</th>\n",
              "      <td>0</td>\n",
              "      <td>62</td>\n",
              "      <td>3869211171</td>\n",
              "      <td>762</td>\n",
              "      <td>14</td>\n",
              "    </tr>\n",
              "    <tr>\n",
              "      <th>1310716</th>\n",
              "      <td>1</td>\n",
              "      <td>4</td>\n",
              "      <td>3869211171</td>\n",
              "      <td>763</td>\n",
              "      <td>11</td>\n",
              "    </tr>\n",
              "    <tr>\n",
              "      <th>1310717</th>\n",
              "      <td>0</td>\n",
              "      <td>64</td>\n",
              "      <td>3869211171</td>\n",
              "      <td>764</td>\n",
              "      <td>0</td>\n",
              "    </tr>\n",
              "    <tr>\n",
              "      <th>1310718</th>\n",
              "      <td>0</td>\n",
              "      <td>139</td>\n",
              "      <td>3869211171</td>\n",
              "      <td>769</td>\n",
              "      <td>0</td>\n",
              "    </tr>\n",
              "    <tr>\n",
              "      <th>1310719</th>\n",
              "      <td>0</td>\n",
              "      <td>61</td>\n",
              "      <td>3869211171</td>\n",
              "      <td>762</td>\n",
              "      <td>18</td>\n",
              "    </tr>\n",
              "  </tbody>\n",
              "</table>\n",
              "</div>\n",
              "    <div class=\"colab-df-buttons\">\n",
              "\n",
              "  <div class=\"colab-df-container\">\n",
              "    <button class=\"colab-df-convert\" onclick=\"convertToInteractive('df-53fcea50-cada-415e-b5cc-0c5fd3982688')\"\n",
              "            title=\"Convert this dataframe to an interactive table.\"\n",
              "            style=\"display:none;\">\n",
              "\n",
              "  <svg xmlns=\"http://www.w3.org/2000/svg\" height=\"24px\" viewBox=\"0 -960 960 960\">\n",
              "    <path d=\"M120-120v-720h720v720H120Zm60-500h600v-160H180v160Zm220 220h160v-160H400v160Zm0 220h160v-160H400v160ZM180-400h160v-160H180v160Zm440 0h160v-160H620v160ZM180-180h160v-160H180v160Zm440 0h160v-160H620v160Z\"/>\n",
              "  </svg>\n",
              "    </button>\n",
              "\n",
              "  <style>\n",
              "    .colab-df-container {\n",
              "      display:flex;\n",
              "      gap: 12px;\n",
              "    }\n",
              "\n",
              "    .colab-df-convert {\n",
              "      background-color: #E8F0FE;\n",
              "      border: none;\n",
              "      border-radius: 50%;\n",
              "      cursor: pointer;\n",
              "      display: none;\n",
              "      fill: #1967D2;\n",
              "      height: 32px;\n",
              "      padding: 0 0 0 0;\n",
              "      width: 32px;\n",
              "    }\n",
              "\n",
              "    .colab-df-convert:hover {\n",
              "      background-color: #E2EBFA;\n",
              "      box-shadow: 0px 1px 2px rgba(60, 64, 67, 0.3), 0px 1px 3px 1px rgba(60, 64, 67, 0.15);\n",
              "      fill: #174EA6;\n",
              "    }\n",
              "\n",
              "    .colab-df-buttons div {\n",
              "      margin-bottom: 4px;\n",
              "    }\n",
              "\n",
              "    [theme=dark] .colab-df-convert {\n",
              "      background-color: #3B4455;\n",
              "      fill: #D2E3FC;\n",
              "    }\n",
              "\n",
              "    [theme=dark] .colab-df-convert:hover {\n",
              "      background-color: #434B5C;\n",
              "      box-shadow: 0px 1px 3px 1px rgba(0, 0, 0, 0.15);\n",
              "      filter: drop-shadow(0px 1px 2px rgba(0, 0, 0, 0.3));\n",
              "      fill: #FFFFFF;\n",
              "    }\n",
              "  </style>\n",
              "\n",
              "    <script>\n",
              "      const buttonEl =\n",
              "        document.querySelector('#df-53fcea50-cada-415e-b5cc-0c5fd3982688 button.colab-df-convert');\n",
              "      buttonEl.style.display =\n",
              "        google.colab.kernel.accessAllowed ? 'block' : 'none';\n",
              "\n",
              "      async function convertToInteractive(key) {\n",
              "        const element = document.querySelector('#df-53fcea50-cada-415e-b5cc-0c5fd3982688');\n",
              "        const dataTable =\n",
              "          await google.colab.kernel.invokeFunction('convertToInteractive',\n",
              "                                                    [key], {});\n",
              "        if (!dataTable) return;\n",
              "\n",
              "        const docLinkHtml = 'Like what you see? Visit the ' +\n",
              "          '<a target=\"_blank\" href=https://colab.research.google.com/notebooks/data_table.ipynb>data table notebook</a>'\n",
              "          + ' to learn more about interactive tables.';\n",
              "        element.innerHTML = '';\n",
              "        dataTable['output_type'] = 'display_data';\n",
              "        await google.colab.output.renderOutput(dataTable, element);\n",
              "        const docLink = document.createElement('div');\n",
              "        docLink.innerHTML = docLinkHtml;\n",
              "        element.appendChild(docLink);\n",
              "      }\n",
              "    </script>\n",
              "  </div>\n",
              "\n",
              "\n",
              "<div id=\"df-2626b891-5d96-4b35-93d4-46f991694684\">\n",
              "  <button class=\"colab-df-quickchart\" onclick=\"quickchart('df-2626b891-5d96-4b35-93d4-46f991694684')\"\n",
              "            title=\"Suggest charts\"\n",
              "            style=\"display:none;\">\n",
              "\n",
              "<svg xmlns=\"http://www.w3.org/2000/svg\" height=\"24px\"viewBox=\"0 0 24 24\"\n",
              "     width=\"24px\">\n",
              "    <g>\n",
              "        <path d=\"M19 3H5c-1.1 0-2 .9-2 2v14c0 1.1.9 2 2 2h14c1.1 0 2-.9 2-2V5c0-1.1-.9-2-2-2zM9 17H7v-7h2v7zm4 0h-2V7h2v10zm4 0h-2v-4h2v4z\"/>\n",
              "    </g>\n",
              "</svg>\n",
              "  </button>\n",
              "\n",
              "<style>\n",
              "  .colab-df-quickchart {\n",
              "      --bg-color: #E8F0FE;\n",
              "      --fill-color: #1967D2;\n",
              "      --hover-bg-color: #E2EBFA;\n",
              "      --hover-fill-color: #174EA6;\n",
              "      --disabled-fill-color: #AAA;\n",
              "      --disabled-bg-color: #DDD;\n",
              "  }\n",
              "\n",
              "  [theme=dark] .colab-df-quickchart {\n",
              "      --bg-color: #3B4455;\n",
              "      --fill-color: #D2E3FC;\n",
              "      --hover-bg-color: #434B5C;\n",
              "      --hover-fill-color: #FFFFFF;\n",
              "      --disabled-bg-color: #3B4455;\n",
              "      --disabled-fill-color: #666;\n",
              "  }\n",
              "\n",
              "  .colab-df-quickchart {\n",
              "    background-color: var(--bg-color);\n",
              "    border: none;\n",
              "    border-radius: 50%;\n",
              "    cursor: pointer;\n",
              "    display: none;\n",
              "    fill: var(--fill-color);\n",
              "    height: 32px;\n",
              "    padding: 0;\n",
              "    width: 32px;\n",
              "  }\n",
              "\n",
              "  .colab-df-quickchart:hover {\n",
              "    background-color: var(--hover-bg-color);\n",
              "    box-shadow: 0 1px 2px rgba(60, 64, 67, 0.3), 0 1px 3px 1px rgba(60, 64, 67, 0.15);\n",
              "    fill: var(--button-hover-fill-color);\n",
              "  }\n",
              "\n",
              "  .colab-df-quickchart-complete:disabled,\n",
              "  .colab-df-quickchart-complete:disabled:hover {\n",
              "    background-color: var(--disabled-bg-color);\n",
              "    fill: var(--disabled-fill-color);\n",
              "    box-shadow: none;\n",
              "  }\n",
              "\n",
              "  .colab-df-spinner {\n",
              "    border: 2px solid var(--fill-color);\n",
              "    border-color: transparent;\n",
              "    border-bottom-color: var(--fill-color);\n",
              "    animation:\n",
              "      spin 1s steps(1) infinite;\n",
              "  }\n",
              "\n",
              "  @keyframes spin {\n",
              "    0% {\n",
              "      border-color: transparent;\n",
              "      border-bottom-color: var(--fill-color);\n",
              "      border-left-color: var(--fill-color);\n",
              "    }\n",
              "    20% {\n",
              "      border-color: transparent;\n",
              "      border-left-color: var(--fill-color);\n",
              "      border-top-color: var(--fill-color);\n",
              "    }\n",
              "    30% {\n",
              "      border-color: transparent;\n",
              "      border-left-color: var(--fill-color);\n",
              "      border-top-color: var(--fill-color);\n",
              "      border-right-color: var(--fill-color);\n",
              "    }\n",
              "    40% {\n",
              "      border-color: transparent;\n",
              "      border-right-color: var(--fill-color);\n",
              "      border-top-color: var(--fill-color);\n",
              "    }\n",
              "    60% {\n",
              "      border-color: transparent;\n",
              "      border-right-color: var(--fill-color);\n",
              "    }\n",
              "    80% {\n",
              "      border-color: transparent;\n",
              "      border-right-color: var(--fill-color);\n",
              "      border-bottom-color: var(--fill-color);\n",
              "    }\n",
              "    90% {\n",
              "      border-color: transparent;\n",
              "      border-bottom-color: var(--fill-color);\n",
              "    }\n",
              "  }\n",
              "</style>\n",
              "\n",
              "  <script>\n",
              "    async function quickchart(key) {\n",
              "      const quickchartButtonEl =\n",
              "        document.querySelector('#' + key + ' button');\n",
              "      quickchartButtonEl.disabled = true;  // To prevent multiple clicks.\n",
              "      quickchartButtonEl.classList.add('colab-df-spinner');\n",
              "      try {\n",
              "        const charts = await google.colab.kernel.invokeFunction(\n",
              "            'suggestCharts', [key], {});\n",
              "      } catch (error) {\n",
              "        console.error('Error during call to suggestCharts:', error);\n",
              "      }\n",
              "      quickchartButtonEl.classList.remove('colab-df-spinner');\n",
              "      quickchartButtonEl.classList.add('colab-df-quickchart-complete');\n",
              "    }\n",
              "    (() => {\n",
              "      let quickchartButtonEl =\n",
              "        document.querySelector('#df-2626b891-5d96-4b35-93d4-46f991694684 button');\n",
              "      quickchartButtonEl.style.display =\n",
              "        google.colab.kernel.accessAllowed ? 'block' : 'none';\n",
              "    })();\n",
              "  </script>\n",
              "</div>\n",
              "    </div>\n",
              "  </div>\n"
            ]
          },
          "metadata": {},
          "execution_count": 8
        }
      ],
      "source": [
        "file = 'data_000637.txt'\n",
        "data = pd.read_csv(file)\n",
        "data.drop(['HEAD'], axis=1).tail(15)\n",
        "#data.shape"
      ]
    },
    {
      "cell_type": "markdown",
      "metadata": {
        "id": "1KV9eZDLjskU"
      },
      "source": [
        "1\\. Create a Pandas DataFrame reading N rows of the 'data_000637.txt' dataset. Choose N to be smaller than or equal to the maximum number of rows and larger that 10k."
      ]
    },
    {
      "cell_type": "code",
      "execution_count": 10,
      "metadata": {
        "scrolled": true,
        "id": "5aRHZcVLjskV",
        "outputId": "2330d569-79af-4c6f-b6dd-620b899e8e75",
        "colab": {
          "base_uri": "https://localhost:8080/"
        }
      },
      "outputs": [
        {
          "output_type": "execute_result",
          "data": {
            "text/plain": [
              "(20000, 6)"
            ]
          },
          "metadata": {},
          "execution_count": 10
        }
      ],
      "source": [
        "N = 20000\n",
        "data_N = data[:N]\n",
        "data_N.shape"
      ]
    },
    {
      "cell_type": "markdown",
      "metadata": {
        "id": "4y7gcbcpjskY"
      },
      "source": [
        "2\\. Find out the number of BX in a ORBIT (the value 'x')."
      ]
    },
    {
      "cell_type": "code",
      "execution_count": 11,
      "metadata": {
        "id": "1eSs8dHdjskZ",
        "outputId": "8274d715-3d2b-4177-c073-fafa1a5cbfab",
        "colab": {
          "base_uri": "https://localhost:8080/"
        }
      },
      "outputs": [
        {
          "output_type": "stream",
          "name": "stdout",
          "text": [
            "3563\n"
          ]
        }
      ],
      "source": [
        "x = data_N['BX_COUNTER'].max()\n",
        "print(x)"
      ]
    },
    {
      "cell_type": "markdown",
      "metadata": {
        "id": "aLRmbwRVjskc"
      },
      "source": [
        "3\\. Find out how much the data taking lasted. You can either make an estimate based on the fraction of the measurements (rows) you read, or perform this check precisely by reading out the whole dataset."
      ]
    },
    {
      "cell_type": "code",
      "execution_count": 17,
      "metadata": {
        "id": "7VOVm56Fjskd",
        "outputId": "81e2c459-5501-4393-a6ad-0f191f3c7384",
        "colab": {
          "base_uri": "https://localhost:8080/"
        }
      },
      "outputs": [
        {
          "output_type": "stream",
          "name": "stdout",
          "text": [
            "1.161928704\n"
          ]
        }
      ],
      "source": [
        "#estimate\n",
        "unit = 25e-09\n",
        "ratio = N/data.shape[0]\n",
        "offset = data_N['ORBIT_CNT'].min()*x+data_N['BX_COUNTER'].iloc[0]\n",
        "bx_est = data_N['BX_COUNTER'].iloc[-1]\n",
        "orbit_est = data_N['ORBIT_CNT'].max()\n",
        "delta_est = (bx_est+orbit_est*x-offset)*unit/ratio\n",
        "print(delta_est)"
      ]
    },
    {
      "cell_type": "code",
      "execution_count": 18,
      "metadata": {
        "id": "JLMTVQVRjskg",
        "outputId": "79d96b82-b017-4854-b245-4b70f0e0a9bf",
        "colab": {
          "base_uri": "https://localhost:8080/"
        }
      },
      "outputs": [
        {
          "output_type": "stream",
          "name": "stdout",
          "text": [
            "0.9801409999999999\n"
          ]
        }
      ],
      "source": [
        "#accurate\n",
        "bx_r = data['BX_COUNTER'].iloc[-1]\n",
        "orbit = data['ORBIT_CNT'].max()\n",
        "delta_t = (bx_r+orbit*x-offset)*unit\n",
        "print(delta_t)"
      ]
    },
    {
      "cell_type": "markdown",
      "metadata": {
        "id": "IMvZ5Oy9jskj"
      },
      "source": [
        "4\\. Create a new column with the absolute time in ns (as a combination of the other three columns with timing information)."
      ]
    },
    {
      "cell_type": "code",
      "execution_count": null,
      "metadata": {
        "id": "3EXDjugMjskk",
        "outputId": "9c0b92dd-668f-42c7-9647-8fc2fd5b47cd"
      },
      "outputs": [
        {
          "name": "stderr",
          "output_type": "stream",
          "text": [
            "/tmp/ipykernel_4868/3528262107.py:1: SettingWithCopyWarning: \n",
            "A value is trying to be set on a copy of a slice from a DataFrame.\n",
            "Try using .loc[row_indexer,col_indexer] = value instead\n",
            "\n",
            "See the caveats in the documentation: https://pandas.pydata.org/pandas-docs/stable/user_guide/indexing.html#returning-a-view-versus-a-copy\n",
            "  data_N['ABS_NS'] = (data_N['ORBIT_CNT']*x + data_N['BX_COUNTER']-offset)*25\n"
          ]
        },
        {
          "data": {
            "text/html": [
              "<div>\n",
              "<style scoped>\n",
              "    .dataframe tbody tr th:only-of-type {\n",
              "        vertical-align: middle;\n",
              "    }\n",
              "\n",
              "    .dataframe tbody tr th {\n",
              "        vertical-align: top;\n",
              "    }\n",
              "\n",
              "    .dataframe thead th {\n",
              "        text-align: right;\n",
              "    }\n",
              "</style>\n",
              "<table border=\"1\" class=\"dataframe\">\n",
              "  <thead>\n",
              "    <tr style=\"text-align: right;\">\n",
              "      <th></th>\n",
              "      <th>HEAD</th>\n",
              "      <th>FPGA</th>\n",
              "      <th>TDC_CHANNEL</th>\n",
              "      <th>ORBIT_CNT</th>\n",
              "      <th>BX_COUNTER</th>\n",
              "      <th>TDC_MEAS</th>\n",
              "      <th>ABS_NS</th>\n",
              "    </tr>\n",
              "  </thead>\n",
              "  <tbody>\n",
              "    <tr>\n",
              "      <th>0</th>\n",
              "      <td>1</td>\n",
              "      <td>0</td>\n",
              "      <td>123</td>\n",
              "      <td>3869200167</td>\n",
              "      <td>2374</td>\n",
              "      <td>26</td>\n",
              "      <td>0</td>\n",
              "    </tr>\n",
              "    <tr>\n",
              "      <th>1</th>\n",
              "      <td>1</td>\n",
              "      <td>0</td>\n",
              "      <td>124</td>\n",
              "      <td>3869200167</td>\n",
              "      <td>2374</td>\n",
              "      <td>27</td>\n",
              "      <td>0</td>\n",
              "    </tr>\n",
              "    <tr>\n",
              "      <th>2</th>\n",
              "      <td>1</td>\n",
              "      <td>0</td>\n",
              "      <td>63</td>\n",
              "      <td>3869200167</td>\n",
              "      <td>2553</td>\n",
              "      <td>28</td>\n",
              "      <td>4475</td>\n",
              "    </tr>\n",
              "    <tr>\n",
              "      <th>3</th>\n",
              "      <td>1</td>\n",
              "      <td>0</td>\n",
              "      <td>64</td>\n",
              "      <td>3869200167</td>\n",
              "      <td>2558</td>\n",
              "      <td>19</td>\n",
              "      <td>4600</td>\n",
              "    </tr>\n",
              "    <tr>\n",
              "      <th>4</th>\n",
              "      <td>1</td>\n",
              "      <td>0</td>\n",
              "      <td>64</td>\n",
              "      <td>3869200167</td>\n",
              "      <td>2760</td>\n",
              "      <td>25</td>\n",
              "      <td>9650</td>\n",
              "    </tr>\n",
              "  </tbody>\n",
              "</table>\n",
              "</div>"
            ],
            "text/plain": [
              "   HEAD  FPGA  TDC_CHANNEL   ORBIT_CNT  BX_COUNTER  TDC_MEAS  ABS_NS\n",
              "0     1     0          123  3869200167        2374        26       0\n",
              "1     1     0          124  3869200167        2374        27       0\n",
              "2     1     0           63  3869200167        2553        28    4475\n",
              "3     1     0           64  3869200167        2558        19    4600\n",
              "4     1     0           64  3869200167        2760        25    9650"
            ]
          },
          "execution_count": 35,
          "metadata": {},
          "output_type": "execute_result"
        }
      ],
      "source": [
        "data_N['ABS_NS'] = (data_N['ORBIT_CNT']*x + data_N['BX_COUNTER']-offset)*25\n",
        "data_N.head()"
      ]
    },
    {
      "cell_type": "markdown",
      "metadata": {
        "id": "D_qP1DDrjskl"
      },
      "source": [
        "5\\. Replace the values (all 1) of the HEAD column randomly with 0 or 1."
      ]
    },
    {
      "cell_type": "code",
      "execution_count": null,
      "metadata": {
        "id": "tdcaMzJXjskm",
        "outputId": "7fefe757-1553-4373-a019-aea190fd0ffe"
      },
      "outputs": [
        {
          "data": {
            "text/html": [
              "<div>\n",
              "<style scoped>\n",
              "    .dataframe tbody tr th:only-of-type {\n",
              "        vertical-align: middle;\n",
              "    }\n",
              "\n",
              "    .dataframe tbody tr th {\n",
              "        vertical-align: top;\n",
              "    }\n",
              "\n",
              "    .dataframe thead th {\n",
              "        text-align: right;\n",
              "    }\n",
              "</style>\n",
              "<table border=\"1\" class=\"dataframe\">\n",
              "  <thead>\n",
              "    <tr style=\"text-align: right;\">\n",
              "      <th></th>\n",
              "      <th>HEAD</th>\n",
              "      <th>FPGA</th>\n",
              "      <th>TDC_CHANNEL</th>\n",
              "      <th>ORBIT_CNT</th>\n",
              "      <th>BX_COUNTER</th>\n",
              "      <th>TDC_MEAS</th>\n",
              "      <th>ABS_NS</th>\n",
              "    </tr>\n",
              "  </thead>\n",
              "  <tbody>\n",
              "    <tr>\n",
              "      <th>0</th>\n",
              "      <td>0</td>\n",
              "      <td>0</td>\n",
              "      <td>123</td>\n",
              "      <td>3869200167</td>\n",
              "      <td>2374</td>\n",
              "      <td>26</td>\n",
              "      <td>0</td>\n",
              "    </tr>\n",
              "    <tr>\n",
              "      <th>1</th>\n",
              "      <td>0</td>\n",
              "      <td>0</td>\n",
              "      <td>124</td>\n",
              "      <td>3869200167</td>\n",
              "      <td>2374</td>\n",
              "      <td>27</td>\n",
              "      <td>0</td>\n",
              "    </tr>\n",
              "    <tr>\n",
              "      <th>2</th>\n",
              "      <td>1</td>\n",
              "      <td>0</td>\n",
              "      <td>63</td>\n",
              "      <td>3869200167</td>\n",
              "      <td>2553</td>\n",
              "      <td>28</td>\n",
              "      <td>4475</td>\n",
              "    </tr>\n",
              "    <tr>\n",
              "      <th>3</th>\n",
              "      <td>1</td>\n",
              "      <td>0</td>\n",
              "      <td>64</td>\n",
              "      <td>3869200167</td>\n",
              "      <td>2558</td>\n",
              "      <td>19</td>\n",
              "      <td>4600</td>\n",
              "    </tr>\n",
              "    <tr>\n",
              "      <th>4</th>\n",
              "      <td>1</td>\n",
              "      <td>0</td>\n",
              "      <td>64</td>\n",
              "      <td>3869200167</td>\n",
              "      <td>2760</td>\n",
              "      <td>25</td>\n",
              "      <td>9650</td>\n",
              "    </tr>\n",
              "  </tbody>\n",
              "</table>\n",
              "</div>"
            ],
            "text/plain": [
              "   HEAD  FPGA  TDC_CHANNEL   ORBIT_CNT  BX_COUNTER  TDC_MEAS  ABS_NS\n",
              "0     0     0          123  3869200167        2374        26       0\n",
              "1     0     0          124  3869200167        2374        27       0\n",
              "2     1     0           63  3869200167        2553        28    4475\n",
              "3     1     0           64  3869200167        2558        19    4600\n",
              "4     1     0           64  3869200167        2760        25    9650"
            ]
          },
          "execution_count": 36,
          "metadata": {},
          "output_type": "execute_result"
        }
      ],
      "source": [
        "data_rand = data_N.copy()\n",
        "data_rand['HEAD']= np.random.randint(2, size=N)\n",
        "data_rand.head()"
      ]
    },
    {
      "cell_type": "markdown",
      "metadata": {
        "id": "nHbnpWNjjskp"
      },
      "source": [
        "6\\. Create a new DataFrame that contains only the rows with HEAD=1."
      ]
    },
    {
      "cell_type": "code",
      "execution_count": null,
      "metadata": {
        "id": "QArUGgyQjskp",
        "outputId": "27c6c97b-4084-4fa5-835b-6461d713a428"
      },
      "outputs": [
        {
          "data": {
            "text/html": [
              "<div>\n",
              "<style scoped>\n",
              "    .dataframe tbody tr th:only-of-type {\n",
              "        vertical-align: middle;\n",
              "    }\n",
              "\n",
              "    .dataframe tbody tr th {\n",
              "        vertical-align: top;\n",
              "    }\n",
              "\n",
              "    .dataframe thead th {\n",
              "        text-align: right;\n",
              "    }\n",
              "</style>\n",
              "<table border=\"1\" class=\"dataframe\">\n",
              "  <thead>\n",
              "    <tr style=\"text-align: right;\">\n",
              "      <th></th>\n",
              "      <th>HEAD</th>\n",
              "      <th>FPGA</th>\n",
              "      <th>TDC_CHANNEL</th>\n",
              "      <th>ORBIT_CNT</th>\n",
              "      <th>BX_COUNTER</th>\n",
              "      <th>TDC_MEAS</th>\n",
              "      <th>ABS_NS</th>\n",
              "    </tr>\n",
              "  </thead>\n",
              "  <tbody>\n",
              "    <tr>\n",
              "      <th>0</th>\n",
              "      <td>1</td>\n",
              "      <td>0</td>\n",
              "      <td>123</td>\n",
              "      <td>3869200167</td>\n",
              "      <td>2374</td>\n",
              "      <td>26</td>\n",
              "      <td>0</td>\n",
              "    </tr>\n",
              "    <tr>\n",
              "      <th>1</th>\n",
              "      <td>1</td>\n",
              "      <td>0</td>\n",
              "      <td>124</td>\n",
              "      <td>3869200167</td>\n",
              "      <td>2374</td>\n",
              "      <td>27</td>\n",
              "      <td>0</td>\n",
              "    </tr>\n",
              "    <tr>\n",
              "      <th>2</th>\n",
              "      <td>1</td>\n",
              "      <td>0</td>\n",
              "      <td>63</td>\n",
              "      <td>3869200167</td>\n",
              "      <td>2553</td>\n",
              "      <td>28</td>\n",
              "      <td>4475</td>\n",
              "    </tr>\n",
              "    <tr>\n",
              "      <th>3</th>\n",
              "      <td>1</td>\n",
              "      <td>0</td>\n",
              "      <td>64</td>\n",
              "      <td>3869200167</td>\n",
              "      <td>2558</td>\n",
              "      <td>19</td>\n",
              "      <td>4600</td>\n",
              "    </tr>\n",
              "    <tr>\n",
              "      <th>4</th>\n",
              "      <td>1</td>\n",
              "      <td>0</td>\n",
              "      <td>64</td>\n",
              "      <td>3869200167</td>\n",
              "      <td>2760</td>\n",
              "      <td>25</td>\n",
              "      <td>9650</td>\n",
              "    </tr>\n",
              "  </tbody>\n",
              "</table>\n",
              "</div>"
            ],
            "text/plain": [
              "   HEAD  FPGA  TDC_CHANNEL   ORBIT_CNT  BX_COUNTER  TDC_MEAS  ABS_NS\n",
              "0     1     0          123  3869200167        2374        26       0\n",
              "1     1     0          124  3869200167        2374        27       0\n",
              "2     1     0           63  3869200167        2553        28    4475\n",
              "3     1     0           64  3869200167        2558        19    4600\n",
              "4     1     0           64  3869200167        2760        25    9650"
            ]
          },
          "execution_count": 37,
          "metadata": {},
          "output_type": "execute_result"
        }
      ],
      "source": [
        "newdf = data_N[data_N['HEAD']==1]\n",
        "newdf.head()"
      ]
    },
    {
      "cell_type": "markdown",
      "metadata": {
        "id": "D4jmJ2w6jskr"
      },
      "source": [
        "7\\. Make two occupancy plots (one for each FPGA), i.e. plot the number of counts per TDC channel"
      ]
    },
    {
      "cell_type": "code",
      "execution_count": null,
      "metadata": {
        "id": "z9j-5hlHjsks",
        "outputId": "e5767d56-f651-4b14-d8b0-f1fc373809de"
      },
      "outputs": [
        {
          "data": {
            "text/plain": [
              "<AxesSubplot:xlabel='FPGA,TDC_CHANNEL'>"
            ]
          },
          "execution_count": 51,
          "metadata": {},
          "output_type": "execute_result"
        },
        {
          "data": {
            "image/png": "[encoded data removed]",
            "text/plain": [
              "<Figure size 432x288 with 1 Axes>"
            ]
          },
          "metadata": {
            "needs_background": "light"
          },
          "output_type": "display_data"
        }
      ],
      "source": [
        "grouped0 = data_N[data_N['FPGA']==0].groupby(['FPGA', 'TDC_CHANNEL']).sum()\n",
        "grouped0['HEAD'].plot()"
      ]
    },
    {
      "cell_type": "code",
      "execution_count": null,
      "metadata": {
        "id": "EeeEkFkWjsku",
        "outputId": "3670727f-4a66-484d-93a8-31441fe467d0"
      },
      "outputs": [
        {
          "data": {
            "text/plain": [
              "<AxesSubplot:xlabel='FPGA,TDC_CHANNEL'>"
            ]
          },
          "execution_count": 52,
          "metadata": {},
          "output_type": "execute_result"
        },
        {
          "data": {
            "image/png": "[encoded data removed]",
            "text/plain": [
              "<Figure size 432x288 with 1 Axes>"
            ]
          },
          "metadata": {
            "needs_background": "light"
          },
          "output_type": "display_data"
        }
      ],
      "source": [
        "grouped1 = data_N[data_N['FPGA']==1].groupby(['FPGA', 'TDC_CHANNEL']).sum()\n",
        "grouped1['HEAD'].plot()"
      ]
    },
    {
      "cell_type": "markdown",
      "metadata": {
        "id": "tLzXOmXyjskv"
      },
      "source": [
        "8\\. Use the groupby method to find out the noisy channels, i.e. the TDC channels with most counts (say the top 3)"
      ]
    },
    {
      "cell_type": "code",
      "execution_count": null,
      "metadata": {
        "id": "2yOj0eNRjskw",
        "outputId": "db50dc39-959a-477b-d940-dae885ebb0c0"
      },
      "outputs": [
        {
          "data": {
            "text/html": [
              "<div>\n",
              "<style scoped>\n",
              "    .dataframe tbody tr th:only-of-type {\n",
              "        vertical-align: middle;\n",
              "    }\n",
              "\n",
              "    .dataframe tbody tr th {\n",
              "        vertical-align: top;\n",
              "    }\n",
              "\n",
              "    .dataframe thead th {\n",
              "        text-align: right;\n",
              "    }\n",
              "</style>\n",
              "<table border=\"1\" class=\"dataframe\">\n",
              "  <thead>\n",
              "    <tr style=\"text-align: right;\">\n",
              "      <th></th>\n",
              "      <th></th>\n",
              "      <th>HEAD</th>\n",
              "      <th>ORBIT_CNT</th>\n",
              "      <th>BX_COUNTER</th>\n",
              "      <th>TDC_MEAS</th>\n",
              "      <th>ABS_NS</th>\n",
              "    </tr>\n",
              "    <tr>\n",
              "      <th>FPGA</th>\n",
              "      <th>TDC_CHANNEL</th>\n",
              "      <th></th>\n",
              "      <th></th>\n",
              "      <th></th>\n",
              "      <th></th>\n",
              "      <th></th>\n",
              "    </tr>\n",
              "  </thead>\n",
              "  <tbody>\n",
              "    <tr>\n",
              "      <th rowspan=\"3\" valign=\"top\">0</th>\n",
              "      <th>139</th>\n",
              "      <td>1171</td>\n",
              "      <td>4530833511034</td>\n",
              "      <td>2075749</td>\n",
              "      <td>0</td>\n",
              "      <td>10268508650</td>\n",
              "    </tr>\n",
              "    <tr>\n",
              "      <th>64</th>\n",
              "      <td>975</td>\n",
              "      <td>3772470261118</td>\n",
              "      <td>1796933</td>\n",
              "      <td>14169</td>\n",
              "      <td>8742506050</td>\n",
              "    </tr>\n",
              "    <tr>\n",
              "      <th>63</th>\n",
              "      <td>961</td>\n",
              "      <td>3718301454922</td>\n",
              "      <td>1740026</td>\n",
              "      <td>14248</td>\n",
              "      <td>8398262925</td>\n",
              "    </tr>\n",
              "  </tbody>\n",
              "</table>\n",
              "</div>"
            ],
            "text/plain": [
              "                  HEAD      ORBIT_CNT  BX_COUNTER  TDC_MEAS       ABS_NS\n",
              "FPGA TDC_CHANNEL                                                        \n",
              "0    139          1171  4530833511034     2075749         0  10268508650\n",
              "     64            975  3772470261118     1796933     14169   8742506050\n",
              "     63            961  3718301454922     1740026     14248   8398262925"
            ]
          },
          "execution_count": 56,
          "metadata": {},
          "output_type": "execute_result"
        }
      ],
      "source": [
        "grouped = data_N.groupby(['FPGA', 'TDC_CHANNEL']).sum()\n",
        "grouped.sort_values(by=['HEAD'], ascending=False)[:3]"
      ]
    },
    {
      "cell_type": "markdown",
      "metadata": {
        "id": "t3jWXeZJjskx"
      },
      "source": [
        "9\\. Count the number of unique orbits. Count the number of unique orbits with at least one measurement from TDC_CHANNEL=139"
      ]
    },
    {
      "cell_type": "code",
      "execution_count": 15,
      "metadata": {
        "id": "2esS8KJDjsk0",
        "outputId": "40556837-5c18-4381-93a9-e7b1c2904d1c",
        "colab": {
          "base_uri": "https://localhost:8080/"
        }
      },
      "outputs": [
        {
          "output_type": "stream",
          "name": "stdout",
          "text": [
            "200\n",
            "200\n"
          ]
        }
      ],
      "source": [
        "print(data_N['ORBIT_CNT'].nunique())\n",
        "print(data_N[data_N['TDC_CHANNEL']==139]['ORBIT_CNT'].nunique())"
      ]
    }
  ],
  "metadata": {
    "kernelspec": {
      "display_name": "Python 3 (ipykernel)",
      "language": "python",
      "name": "python3"
    },
    "language_info": {
      "codemirror_mode": {
        "name": "ipython",
        "version": 3
      },
      "file_extension": ".py",
      "mimetype": "text/x-python",
      "name": "python",
      "nbconvert_exporter": "python",
      "pygments_lexer": "ipython3",
      "version": "3.9.12"
    },
    "colab": {
      "provenance": []
    }
  },
  "nbformat": 4,
  "nbformat_minor": 0
}