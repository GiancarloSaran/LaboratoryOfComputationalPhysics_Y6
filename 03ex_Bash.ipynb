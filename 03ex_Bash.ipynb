{
  "cells": [
    {
      "cell_type": "markdown",
      "id": "b5746bd0",
      "metadata": {
        "id": "b5746bd0"
      },
      "source": [
        "The following exercises are meant to be solved by gathering the bash commands incrimentally in two scripts, one for ex 1.* the other for ex 2.*"
      ]
    },
    {
      "cell_type": "markdown",
      "id": "4e60de78",
      "metadata": {
        "id": "4e60de78"
      },
      "source": [
        "### Ex 1"
      ]
    },
    {
      "cell_type": "markdown",
      "id": "6759df36",
      "metadata": {
        "id": "6759df36"
      },
      "source": [
        "1\\.a Make a new directory called `students` in your home. Download a csv file with the list of students of this lab from [here](https://www.dropbox.com/s/867rtx3az6e9gm8/LCP_22-23_students.csv) (use the `wget` command) and copy that to `students`. First check whether the file is already there"
      ]
    },
    {
      "cell_type": "markdown",
      "id": "798c0c9d",
      "metadata": {
        "id": "798c0c9d"
      },
      "source": [
        "1\\.b Make two new files, one containing the students belonging to PoD, the other to Physics."
      ]
    },
    {
      "cell_type": "markdown",
      "id": "8a43d622",
      "metadata": {
        "id": "8a43d622"
      },
      "source": [
        "1\\.c For each letter of the alphabet, count the number of students whose surname starts with that letter."
      ]
    },
    {
      "cell_type": "markdown",
      "id": "4ba6bc90",
      "metadata": {
        "id": "4ba6bc90"
      },
      "source": [
        "1\\.d Find out which is the letter with most counts."
      ]
    },
    {
      "cell_type": "markdown",
      "id": "086a043c",
      "metadata": {
        "id": "086a043c"
      },
      "source": [
        "1\\.e Assume an obvious numbering of the students in the file (first line is 1, second line is 2, etc.), group students \"modulo 18\", i.e. 1,19,37,.. 2,20,38,.. etc. and put each group in a separate file  "
      ]
    },
    {
      "cell_type": "markdown",
      "source": [
        "```bash\n",
        "#!/bin/bash\n",
        "\n",
        "#1a\n",
        "mkdir -p -v $HOME/students\n",
        "wget -nc https://www.dropbox.com/s/867rtx3az6e9gm8/LCP_22-23_students.csv\n",
        "FILE=LCP_22-23_students.csv\n",
        "if [ ! -f \"${HOME}/students/${FILE}\" ]; then\n",
        "    cp $FILE $HOME/students/\n",
        "    echo \"file copied to /home/students\"\n",
        "else\n",
        "    echo \"file already present\"\n",
        "fi\n",
        "cd $HOME/students\n",
        "\n",
        "#1b\n",
        "grep \"PoD\" $FILE > PoD_students.csv\n",
        "grep \"Physics\" $FILE > Phys_students.csv\n",
        "\n",
        "#1c\n",
        "COUNT=0\n",
        "LETTER=A\n",
        "> initials.txt #clear the file\n",
        "for x in {A..Z}; do\n",
        "    TMP=$(grep -c \"^${x}\" $FILE) #count letter $x\n",
        "    echo \"Letter ${x}, count ${TMP}\" >> initials.txt\n",
        "    if [ $TMP -gt $COUNT ]; then #update if count is bigger than max\n",
        "        COUNT=$TMP\n",
        "        LETTER=$x\n",
        "    fi\n",
        "done\n",
        "\n",
        "#1d\n",
        "echo \"Letter ${LETTER}, count ${COUNT}\"\n",
        "\n",
        "#1e\n",
        "i=0\n",
        "cat $FILE | while read line\n",
        "do\n",
        "    mod=$((i%18))\n",
        "    if [ $i -gt 0 ]; then\n",
        "        echo $line >> \"group${mod}.csv\"\n",
        "    fi\n",
        "    i=$((i+1))\n",
        "done\n",
        "```"
      ],
      "metadata": {
        "id": "GbXDsRRvG68-"
      },
      "id": "GbXDsRRvG68-"
    },
    {
      "cell_type": "markdown",
      "id": "1d730d21",
      "metadata": {
        "id": "1d730d21"
      },
      "source": [
        "### Ex 2"
      ]
    },
    {
      "cell_type": "markdown",
      "id": "4b87ecb7",
      "metadata": {
        "id": "4b87ecb7"
      },
      "source": [
        "2.a Make a copy of the file `data.csv` removing the metadata and the commas between numbers; call it `data.txt`"
      ]
    },
    {
      "cell_type": "markdown",
      "id": "344048c8",
      "metadata": {
        "id": "344048c8"
      },
      "source": [
        "2\\.b How many even numbers are there?"
      ]
    },
    {
      "cell_type": "markdown",
      "id": "2a27138d",
      "metadata": {
        "id": "2a27138d"
      },
      "source": [
        "2\\.c Distinguish the entries on the basis of `sqrt(X^2 + Y^2 + Z^2)` is greater or smaller than `100*sqrt(3)/2`. Count the entries of each of the two groups"
      ]
    },
    {
      "cell_type": "markdown",
      "id": "e937ef4e",
      "metadata": {
        "id": "e937ef4e"
      },
      "source": [
        "2\\.d Make `n` copies of data.txt (with `n` an input parameter of the script), where the i-th copy has all the numbers divided by i (with `1<=i<=n`)."
      ]
    },
    {
      "cell_type": "markdown",
      "source": [
        "```bash\n",
        "#!/bin/bash\n",
        "\n",
        "#2a\n",
        "cd $HOME/students\n",
        "sed -e \"s/,/\\t/g\" -e \"/#/d\" data.csv > data.txt\n",
        "#replace all instances ->   s/find/replace/g\n",
        "#to delete all instances don't write the replace\n",
        "#delete all lines containing instance ->    /find/d\n",
        "\n",
        "#2b\n",
        "#without using awk, read every line and save it as an array\n",
        "#then increment the count each time the word ends in an even digit\n",
        "count=0\n",
        "input=data.txt\n",
        "while read -r line; do\n",
        "    words=($line)\n",
        "    for word in \"${words[@]}\"; do\n",
        "        if [[ \"$word\" =~ [02468]$ ]]; then\n",
        "            ((count++))\n",
        "        fi\n",
        "    done\n",
        "done < \"$input\"\n",
        "echo $count\n",
        "\n",
        "#from now on we'll only use awk\n",
        "#2c\n",
        "count=0\n",
        "#awk automatically iterates through every file line, the ith word of each line\n",
        "#is represented by a variable named i\n",
        "above=$(awk '{ if ($0*$0+$1*$1+$2*$2>7500) count++} END { print count }' \"$input\")\n",
        "count=0\n",
        "below=$(awk '{ if ($0*$0+$1*$1+$2*$2<7500) count++} END { print count }' \"$input\")\n",
        "echo \"above:${above}, below:${below}\"\n",
        "#as you see it is much more compact\n",
        "\n",
        "#2d\n",
        "read -p \"Type the amount of copies\" N\n",
        "for (( j=1; j<=$N; j++ ))\n",
        "do\n",
        "    output=\"data${j}.txt\"\n",
        "    #you need to pass shell variables to awk explicitly\n",
        "    awk -v var=\"$j\" '{ for (i=1; i<=NF; i++) $i=$i/var } 1' \"$input\" > \"$output\"\n",
        "done\n",
        "```"
      ],
      "metadata": {
        "id": "NG83hE8VHNJR"
      },
      "id": "NG83hE8VHNJR"
    }
  ],
  "metadata": {
    "kernelspec": {
      "display_name": "Python 3 (ipykernel)",
      "language": "python",
      "name": "python3"
    },
    "language_info": {
      "codemirror_mode": {
        "name": "ipython",
        "version": 3
      },
      "file_extension": ".py",
      "mimetype": "text/x-python",
      "name": "python",
      "nbconvert_exporter": "python",
      "pygments_lexer": "ipython3",
      "version": "3.9.7"
    },
    "colab": {
      "provenance": []
    }
  },
  "nbformat": 4,
  "nbformat_minor": 5
}