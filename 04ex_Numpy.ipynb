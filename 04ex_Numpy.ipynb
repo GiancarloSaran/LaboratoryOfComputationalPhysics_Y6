{
  "cells": [
    {
      "cell_type": "markdown",
      "metadata": {
        "id": "view-in-github",
        "colab_type": "text"
      },
      "source": [
        "<a href=\"https://colab.research.google.com/github/GiancarloSaran/LaboratoryOfComputationalPhysics_Y6/blob/main/04ex_Numpy.ipynb\" target=\"_parent\"><img src=\"https://colab.research.google.com/assets/colab-badge.svg\" alt=\"Open In Colab\"/></a>"
      ]
    },
    {
      "cell_type": "markdown",
      "metadata": {
        "id": "joNSRcqTj0iP"
      },
      "source": [
        "### Numpy basics"
      ]
    },
    {
      "cell_type": "code",
      "execution_count": null,
      "metadata": {
        "id": "TOod5t_wj0il"
      },
      "outputs": [],
      "source": [
        "import numpy as np\n",
        "import numpy.random as npr\n",
        "import matplotlib.pyplot as plt"
      ]
    },
    {
      "cell_type": "markdown",
      "metadata": {
        "id": "JNTdS6Mpj0is"
      },
      "source": [
        "1\\. Find the row, column and overall means for the following matrix:\n",
        "\n",
        "```python\n",
        "m = np.arange(12).reshape((3,4))\n",
        "```"
      ]
    },
    {
      "cell_type": "code",
      "execution_count": null,
      "metadata": {
        "id": "1g3w3MYuj0iv",
        "outputId": "126f9be8-9b98-4434-e331-a7ec94e84dfc"
      },
      "outputs": [
        {
          "name": "stdout",
          "output_type": "stream",
          "text": [
            "(3, 4)\n",
            "5.5\n"
          ]
        }
      ],
      "source": [
        "#Haven't really understood the assignment\n",
        "\n",
        "m = np.arange(12).reshape((3,4))\n",
        "print(m.shape)\n",
        "print(np.mean(m))"
      ]
    },
    {
      "cell_type": "markdown",
      "metadata": {
        "id": "gZISwVRej0i0"
      },
      "source": [
        "2\\. Find the outer product of the following two vecotrs\n",
        "\n",
        "```python\n",
        "u = np.array([1,3,5,7])\n",
        "v = np.array([2,4,6,8])\n",
        "```\n",
        "\n",
        "Do this in the following ways:\n",
        "\n",
        "   * Using the function outer in numpy\n",
        "   * Using a nested for loop or list comprehension\n",
        "   * Using numpy broadcasting operatoins\n"
      ]
    },
    {
      "cell_type": "code",
      "execution_count": null,
      "metadata": {
        "id": "-XKEr79Ej0i1",
        "outputId": "db114579-bc29-4979-d77c-38711aa2952d"
      },
      "outputs": [
        {
          "name": "stdout",
          "output_type": "stream",
          "text": [
            "[[ 2  4  6  8]\n",
            " [ 6 12 18 24]\n",
            " [10 20 30 40]\n",
            " [14 28 42 56]]\n",
            "[[ 2  4  6  8]\n",
            " [ 6 12 18 24]\n",
            " [10 20 30 40]\n",
            " [14 28 42 56]]\n",
            "[[ 2  4  6  8]\n",
            " [ 6 12 18 24]\n",
            " [10 20 30 40]\n",
            " [14 28 42 56]]\n"
          ]
        }
      ],
      "source": [
        "u = np.array([1,3,5,7])\n",
        "v = np.array([2,4,6,8])\n",
        "\n",
        "outer1 = np.outer(u,v)\n",
        "outer2 = np.array([[i*j for i in v] for j in u])\n",
        "outer3 = u.reshape(-1,1)*v #reshape(-1,1) is a transposition from row to column\n",
        "print(outer1)\n",
        "print(outer2)\n",
        "print(outer3)"
      ]
    },
    {
      "cell_type": "markdown",
      "metadata": {
        "id": "owQACpQmj0i7"
      },
      "source": [
        "3\\. Create a 10 by 6 matrix of random uniform numbers. Set all rows with any entry less than 0.1 to be zero\n",
        "\n",
        "Hint: Use the following numpy functions - np.random.random, np.any as well as Boolean indexing and the axis argument."
      ]
    },
    {
      "cell_type": "code",
      "execution_count": null,
      "metadata": {
        "id": "G92Sjl5uj0i-",
        "outputId": "47d0a4fe-f6c9-4836-dbc1-4020caf26a3b"
      },
      "outputs": [
        {
          "name": "stdout",
          "output_type": "stream",
          "text": [
            "[[0.15416284 0.7400497  0.26331502 0.53373939 0.         0.91874701]\n",
            " [0.90071485 0.         0.95694934 0.13720932 0.28382835 0.60608318]\n",
            " [0.94422514 0.85273554 0.         0.52122603 0.55203763 0.48537741]\n",
            " [0.76813415 0.16071675 0.76456045 0.         0.13521018 0.11627302]\n",
            " [0.30989758 0.67145265 0.47122978 0.8161683  0.28958678 0.73312598]\n",
            " [0.70262236 0.32756948 0.33464753 0.97805808 0.62458211 0.95031352]\n",
            " [0.76747565 0.82500925 0.4066403  0.45130841 0.40063163 0.99513816]\n",
            " [0.17756418 0.9625969  0.41925027 0.42405245 0.46314887 0.37372315]\n",
            " [0.4655081  0.         0.         0.7325207  0.63619999 0.        ]\n",
            " [0.30017006 0.22085252 0.         0.52324607 0.41636966 0.        ]]\n"
          ]
        }
      ],
      "source": [
        "npr.seed(12)\n",
        "A = npr.random(size=(10,6))\n",
        "A[A<0.1] = 0\n",
        "print(A)"
      ]
    },
    {
      "cell_type": "markdown",
      "metadata": {
        "id": "5DBsO-xgj0jA"
      },
      "source": [
        "4\\. Use np.linspace to create an array of 100 numbers between 0 and 2π (includsive).\n",
        "\n",
        "  * Extract every 10th element using slice notation\n",
        "  * Reverse the array using slice notation\n",
        "  * Extract elements where the absolute difference between the sine and cosine functions evaluated at that element is less than 0.1\n",
        "  * Make a plot showing the sin and cos functions and indicate where they are close"
      ]
    },
    {
      "cell_type": "code",
      "execution_count": null,
      "metadata": {
        "id": "HsYWfTuaj0jC",
        "outputId": "314c92c0-bb15-4e33-c01e-34cd007f82f3"
      },
      "outputs": [
        {
          "name": "stdout",
          "output_type": "stream",
          "text": [
            "[0.57119866 1.20586385 1.84052903 2.47519421 3.10985939 3.74452458\n",
            " 4.37918976 5.01385494 5.64852012 6.28318531]\n",
            "[6.28318531 6.21971879 6.15625227 6.09278575 6.02931923 5.96585272\n",
            " 5.9023862  5.83891968 5.77545316 5.71198664 5.64852012 5.58505361\n",
            " 5.52158709 5.45812057 5.39465405 5.33118753 5.26772102 5.2042545\n",
            " 5.14078798 5.07732146 5.01385494 4.95038842 4.88692191 4.82345539\n",
            " 4.75998887 4.69652235 4.63305583 4.56958931 4.5061228  4.44265628\n",
            " 4.37918976 4.31572324 4.25225672 4.1887902  4.12532369 4.06185717\n",
            " 3.99839065 3.93492413 3.87145761 3.8079911  3.74452458 3.68105806\n",
            " 3.61759154 3.55412502 3.4906585  3.42719199 3.36372547 3.30025895\n",
            " 3.23679243 3.17332591 3.10985939 3.04639288 2.98292636 2.91945984\n",
            " 2.85599332 2.7925268  2.72906028 2.66559377 2.60212725 2.53866073\n",
            " 2.47519421 2.41172769 2.34826118 2.28479466 2.22132814 2.15786162\n",
            " 2.0943951  2.03092858 1.96746207 1.90399555 1.84052903 1.77706251\n",
            " 1.71359599 1.65012947 1.58666296 1.52319644 1.45972992 1.3962634\n",
            " 1.33279688 1.26933037 1.20586385 1.14239733 1.07893081 1.01546429\n",
            " 0.95199777 0.88853126 0.82506474 0.76159822 0.6981317  0.63466518\n",
            " 0.57119866 0.50773215 0.44426563 0.38079911 0.31733259 0.25386607\n",
            " 0.19039955 0.12693304 0.06346652 0.        ]\n",
            "[0.76159822 0.82506474 3.87145761 3.93492413]\n"
          ]
        }
      ],
      "source": [
        "arr = np.linspace(0, 2*np.pi, 100)\n",
        "print(arr[9::10])\n",
        "print(arr[::-1])\n",
        "mask = (np.absolute(np.sin(arr)-np.cos(arr))<0.1)\n",
        "print(arr[mask])"
      ]
    },
    {
      "cell_type": "code",
      "execution_count": null,
      "metadata": {
        "id": "Pu3Wmc0ij0jY",
        "outputId": "ee81919a-d79a-41be-c2c3-375b99ef375f"
      },
      "outputs": [
        {
          "data": {
            "text/plain": [
              "[<matplotlib.lines.Line2D at 0x7f6622077eb0>]"
            ]
          },
          "execution_count": 112,
          "metadata": {},
          "output_type": "execute_result"
        },
        {
          "data": {
            "image/png": "[encoded data removed]",
            "text/plain": [
              "<Figure size 432x288 with 1 Axes>"
            ]
          },
          "metadata": {
            "needs_background": "light"
          },
          "output_type": "display_data"
        }
      ],
      "source": [
        "plt.plot(arr, np.sin(arr))\n",
        "plt.plot(arr, np.cos(arr))"
      ]
    },
    {
      "cell_type": "markdown",
      "metadata": {
        "id": "QP_zgehwj0jf"
      },
      "source": [
        "The values obtained are close to the points satisfying $\\sin x = \\cos x$ for $x\\in[0,2\\pi]$, which are $\\pi/4\\approx0.785$ and $5\\pi/4\\approx3.927$"
      ]
    },
    {
      "cell_type": "markdown",
      "metadata": {
        "id": "CMNlT4tyj0jf"
      },
      "source": [
        "5\\. Create a matrix that shows the 10 by 10 multiplication table.\n",
        "\n",
        " * Find the trace of the matrix\n",
        " * Extract the anto-diagonal (this should be ```array([10, 18, 24, 28, 30, 30, 28, 24, 18, 10])```)\n",
        " * Extract the diagnoal offset by 1 upwards (this should be ```array([ 2,  6, 12, 20, 30, 42, 56, 72, 90])```)"
      ]
    },
    {
      "cell_type": "code",
      "execution_count": null,
      "metadata": {
        "id": "JuEMRGvgj0jl",
        "outputId": "5daaf643-b2aa-4737-fd7d-78ac118078ca"
      },
      "outputs": [
        {
          "name": "stdout",
          "output_type": "stream",
          "text": [
            "385\n",
            "385\n",
            "[10 18 24 28 30 30 28 24 18 10]\n",
            "[ 2  6 12 20 30 42 56 72 90]\n"
          ]
        }
      ],
      "source": [
        "def diagoffset(A, off):\n",
        "    return np.array([A[i, i+off] for i in range(np.size(A, 1)-off)])\n",
        "\n",
        "table = np.arange(1, 11).reshape(-1, 1)*np.arange(1, 11)\n",
        "print(np.sum([table[i, i] for i in range(10)])) #trace with comprehension\n",
        "print(np.trace(table)) #with builtin\n",
        "print(diagoffset(table[:, ::-1], 0))\n",
        "print(diagoffset(table, 1))"
      ]
    },
    {
      "cell_type": "markdown",
      "metadata": {
        "id": "UpHYolmyj0jm"
      },
      "source": [
        "6\\. Use broadcasting to create a grid of distances\n",
        "\n",
        "Route 66 crosses the following cities in the US: Chicago, Springfield, Saint-Louis, Tulsa, Oklahoma City, Amarillo, Santa Fe, Albuquerque, Flagstaff, Los Angeles\n",
        "The corresponding positions in miles are: 0, 198, 303, 736, 871, 1175, 1475, 1544, 1913, 2448\n",
        "\n",
        "  * Construct a 2D grid of distances among each city along Route 66\n",
        "  * Convert that in km (those savages...)"
      ]
    },
    {
      "cell_type": "code",
      "execution_count": null,
      "metadata": {
        "id": "o_CUiqwBj0jr",
        "outputId": "b2d3c00a-59ac-422c-a166-1ec01ec7e78f"
      },
      "outputs": [
        {
          "name": "stdout",
          "output_type": "stream",
          "text": [
            "[[   0  198  303  736  871 1175 1475 1544 1913 2448]\n",
            " [ 198    0  105  538  673  977 1277 1346 1715 2250]\n",
            " [ 303  105    0  433  568  872 1172 1241 1610 2145]\n",
            " [ 736  538  433    0  135  439  739  808 1177 1712]\n",
            " [ 871  673  568  135    0  304  604  673 1042 1577]\n",
            " [1175  977  872  439  304    0  300  369  738 1273]\n",
            " [1475 1277 1172  739  604  300    0   69  438  973]\n",
            " [1544 1346 1241  808  673  369   69    0  369  904]\n",
            " [1913 1715 1610 1177 1042  738  438  369    0  535]\n",
            " [2448 2250 2145 1712 1577 1273  973  904  535    0]]\n",
            "[[   0.   316.8  484.8 1177.6 1393.6 1880.  2360.  2470.4 3060.8 3916.8]\n",
            " [ 316.8    0.   168.   860.8 1076.8 1563.2 2043.2 2153.6 2744.  3600. ]\n",
            " [ 484.8  168.     0.   692.8  908.8 1395.2 1875.2 1985.6 2576.  3432. ]\n",
            " [1177.6  860.8  692.8    0.   216.   702.4 1182.4 1292.8 1883.2 2739.2]\n",
            " [1393.6 1076.8  908.8  216.     0.   486.4  966.4 1076.8 1667.2 2523.2]\n",
            " [1880.  1563.2 1395.2  702.4  486.4    0.   480.   590.4 1180.8 2036.8]\n",
            " [2360.  2043.2 1875.2 1182.4  966.4  480.     0.   110.4  700.8 1556.8]\n",
            " [2470.4 2153.6 1985.6 1292.8 1076.8  590.4  110.4    0.   590.4 1446.4]\n",
            " [3060.8 2744.  2576.  1883.2 1667.2 1180.8  700.8  590.4    0.   856. ]\n",
            " [3916.8 3600.  3432.  2739.2 2523.2 2036.8 1556.8 1446.4  856.     0. ]]\n"
          ]
        }
      ],
      "source": [
        "mile = np.array([0, 198, 303, 736, 871, 1175, 1475, 1544, 1913, 2448])\n",
        "grid = np.absolute(mile.reshape(-1, 1) - mile)\n",
        "gridkm = grid*1.6\n",
        "print(grid)\n",
        "print(gridkm)"
      ]
    },
    {
      "cell_type": "markdown",
      "metadata": {
        "id": "QhRSK4Ohj0ju"
      },
      "source": [
        "7\\. Prime numbers sieve: compute the prime numbers in the 0-N (N=99 to start with) range with a sieve (mask).\n",
        "  * Constract a shape (100,) boolean array, the mask\n",
        "  * Identify the multiples of each number starting from 2 and set accordingly the corresponding mask element\n",
        "  * Apply the mask to obtain an array of ordered prime numbers\n",
        "  * Check the performances (timeit); how does it scale with N?\n",
        "  * Implement the optimization suggested in the [sieve of Eratosthenes](https://en.wikipedia.org/wiki/Sieve_of_Eratosthenes)"
      ]
    },
    {
      "cell_type": "code",
      "execution_count": null,
      "metadata": {
        "id": "irRnqvM_j0jv",
        "outputId": "c9a3dabd-a382-43ff-8643-2e6703110245"
      },
      "outputs": [
        {
          "name": "stdout",
          "output_type": "stream",
          "text": [
            "82.5 µs ± 1.24 µs per loop (mean ± std. dev. of 7 runs, 10,000 loops each)\n",
            "715 µs ± 32.3 µs per loop (mean ± std. dev. of 7 runs, 1,000 loops each)\n"
          ]
        }
      ],
      "source": [
        "def sieve(N):\n",
        "\n",
        "    mask = np.ones(N, dtype=bool)\n",
        "    mask[0] = False\n",
        "    ind = 2\n",
        "    while ind < N:\n",
        "        if mask[ind]:\n",
        "            count = ind**2\n",
        "            while count < N:\n",
        "                mask[count]=False\n",
        "                count += ind\n",
        "        ind+=1\n",
        "    return np.arange(N)[mask]\n",
        "\n",
        "%timeit sieve(100)\n",
        "%timeit sieve(1000)"
      ]
    },
    {
      "cell_type": "markdown",
      "metadata": {
        "id": "VwEUkzF_j0jx"
      },
      "source": [
        "Refinement is to start from $p^2$ instead of $2p$ as the smaller multiples are already counted.\n",
        "\n",
        "The algorithm is also space inefficient, an optimized version is the segmented sieve"
      ]
    },
    {
      "cell_type": "markdown",
      "metadata": {
        "id": "YiN9P9t1j0jy"
      },
      "source": [
        "**N.B. the following exercises are meant to be solved only if you are familiar with the numpy random library. If not you can skip them (postponed for one of the next exercise sessions)**\n"
      ]
    },
    {
      "cell_type": "markdown",
      "metadata": {
        "id": "ggLiiVWjj0jz"
      },
      "source": [
        "8\\. Diffusion using random walk\n",
        "\n",
        "Consider a simple random walk process: at each step in time, a walker jumps right or left (+1 or -1) with equal probability. The goal is to find the typical distance from the origin of a random walker after a given amount of time.\n",
        "To do that, let's simulate many walkers and create a 2D array with each walker as a row and the actual time evolution as columns\n",
        "\n",
        "  * Take 1000 walkers and let them walk for 200 steps\n",
        "  * Use randint to create a 2D array of size walkers x steps with values -1 or 1\n",
        "  * Build the actual walking distances for each walker (i.e. another 2D array \"summing on each row\")\n",
        "  * Take the square of that 2D array (elementwise)\n",
        "  * Compute the mean of the squared distances at each step (i.e. the mean along the columns)\n",
        "  * Plot the average distances (sqrt(distance\\*\\*2)) as a function of time (step)\n",
        "  \n",
        "Did you get what you expected?"
      ]
    },
    {
      "cell_type": "code",
      "execution_count": null,
      "metadata": {
        "id": "sAj7P_72j0j0"
      },
      "outputs": [],
      "source": [
        "#compute the time series of the walkers\n",
        "steps = np.random.randint(2, size=(1000, 200))\n",
        "steps[steps == 0]=-1\n",
        "position = np.array([[np.sum(steps[j, :i]) for i in range(200)] for j in range(1000)])"
      ]
    },
    {
      "cell_type": "code",
      "execution_count": null,
      "metadata": {
        "id": "Wp4T1biDj0j1"
      },
      "outputs": [],
      "source": [
        "squared_dist = position**2\n",
        "sigma = np.sqrt(squared_dist.mean(axis=0))"
      ]
    },
    {
      "cell_type": "markdown",
      "metadata": {
        "id": "bwL_bkNaj0j2"
      },
      "source": [
        "Recall that for a random walker starting from the origin $\\sqrt{\\langle x^2(t)\\rangle}\\propto \\sqrt t$"
      ]
    },
    {
      "cell_type": "code",
      "execution_count": null,
      "metadata": {
        "id": "e_XAJ7Vkj0j2",
        "outputId": "40509bcb-4028-4dcf-8098-9fec014c3113"
      },
      "outputs": [
        {
          "data": {
            "text/plain": [
              "[<matplotlib.lines.Line2D at 0x7f662218b610>]"
            ]
          },
          "execution_count": 107,
          "metadata": {},
          "output_type": "execute_result"
        },
        {
          "data": {
            "image/png": "[encoded data removed]",
            "text/plain": [
              "<Figure size 432x288 with 1 Axes>"
            ]
          },
          "metadata": {
            "needs_background": "light"
          },
          "output_type": "display_data"
        }
      ],
      "source": [
        "plt.plot(sigma)"
      ]
    },
    {
      "cell_type": "markdown",
      "metadata": {
        "id": "rM-k87fHj0j4"
      },
      "source": [
        "9\\. Analyze a data file\n",
        "  * Download the population of hares, lynxes and carrots at the beginning of the last century.\n",
        "    ```python\n",
        "    ! wget https://www.dropbox.com/s/3vigxoqayo389uc/populations.txt\n",
        "    ```\n",
        "\n",
        "  * Check the content by looking within the file\n",
        "  * Load the data (use an appropriate numpy method) into a 2D array\n",
        "  * Create arrays out of the columns, the arrays being (in order): *year*, *hares*, *lynxes*, *carrots*\n",
        "  * Plot the 3 populations over the years\n",
        "  * Compute the main statistical properties of the dataset (mean, std, correlations, etc.)\n",
        "  * Which species has the highest population each year?\n",
        "\n",
        "Do you feel there is some evident correlation here? [Studies](https://www.enr.gov.nt.ca/en/services/lynx/lynx-snowshoe-hare-cycle) tend to believe so."
      ]
    },
    {
      "cell_type": "code",
      "execution_count": null,
      "metadata": {
        "collapsed": true,
        "id": "kBuCYSOvj0j5"
      },
      "outputs": [],
      "source": [
        "! wget -q -nc https://www.dropbox.com/s/3vigxoqayo389uc/populations.txt"
      ]
    },
    {
      "cell_type": "code",
      "execution_count": null,
      "metadata": {
        "id": "n63aAIpNj0j8"
      },
      "outputs": [],
      "source": [
        "nd = np.loadtxt('populations.txt', dtype=float)\n",
        "nd = nd.astype(int)\n",
        "year = nd[:, 0]\n",
        "hares = nd[:, 1]\n",
        "lynxes = nd[:, 2]\n",
        "carrots = nd[:, 3]"
      ]
    },
    {
      "cell_type": "code",
      "execution_count": null,
      "metadata": {
        "id": "tkwuOTEaj0j9",
        "outputId": "7f8db969-e4ba-41ae-b7e6-d4fc55bd19e2",
        "colab": {
          "base_uri": "https://localhost:8080/"
        }
      },
      "outputs": [
        {
          "output_type": "stream",
          "name": "stdout",
          "text": [
            "[34080.95238095 20166.66666667 42400.        ]\n",
            "[20897.90645809 16254.59153691  3322.50622558]\n"
          ]
        }
      ],
      "source": [
        "print(np.mean(nd[:,1:4], axis=0))\n",
        "print(np.std(nd[:,1:4], axis=0))\n",
        "#the carrot population is roughly constant"
      ]
    },
    {
      "cell_type": "code",
      "source": [
        "from matplotlib.ticker import MaxNLocator\n",
        "fig, ax = plt.subplots()\n",
        "plt.plot(year, hares, label='hares')\n",
        "ax.plot(year, lynxes, label='lynxes')\n",
        "ax.plot(year, carrots, label='carrots')\n",
        "plt.xlabel('Year')\n",
        "plt.ylabel('Population')\n",
        "ax.xaxis.set_major_locator(MaxNLocator(integer=True))\n",
        "ax.legend()\n",
        "#It's a prey-predator cycle. As the population of hares grows lynxes grow until they eat too many hares so the prey population falls\n",
        "#causing a scarcity of food for predators (described by the Lotka-Volterra model)"
      ],
      "metadata": {
        "id": "IPhRT22Ej0j_",
        "outputId": "5a343fa5-abd1-4e76-dedd-1adee24be477",
        "colab": {
          "base_uri": "https://localhost:8080/",
          "height": 467
        }
      },
      "execution_count": null,
      "outputs": [
        {
          "output_type": "execute_result",
          "data": {
            "text/plain": [
              "<matplotlib.legend.Legend at 0x7c1b35104190>"
            ]
          },
          "metadata": {},
          "execution_count": 35
        },
        {
          "output_type": "display_data",
          "data": {
            "text/plain": [
              "<Figure size 640x480 with 1 Axes>"
            ],
            "image/png": "[encoded data removed]"
          },
          "metadata": {}
        }
      ]
    }
  ],
  "metadata": {
    "kernelspec": {
      "display_name": "Python 3 (ipykernel)",
      "language": "python",
      "name": "python3"
    },
    "language_info": {
      "codemirror_mode": {
        "name": "ipython",
        "version": 3
      },
      "file_extension": ".py",
      "mimetype": "text/x-python",
      "name": "python",
      "nbconvert_exporter": "python",
      "pygments_lexer": "ipython3",
      "version": "3.9.12"
    },
    "colab": {
      "provenance": [],
      "include_colab_link": true
    }
  },
  "nbformat": 4,
  "nbformat_minor": 0
}